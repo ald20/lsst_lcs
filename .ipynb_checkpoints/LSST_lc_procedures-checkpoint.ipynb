{
 "cells": [
  {
   "cell_type": "code",
   "execution_count": 32,
   "metadata": {},
   "outputs": [],
   "source": [
    "import numpy as np\n",
    "import scipy.optimize\n",
    "import matplotlib.pyplot as plt\n",
    "import os"
   ]
  },
  {
   "cell_type": "code",
   "execution_count": 2,
   "metadata": {},
   "outputs": [],
   "source": [
    "# Paths to directories containing data\n",
    "home_path = os.path.expanduser('~/')\n",
    "path_67p = home_path+'Documents/year1/shape_modelling/67p/'"
   ]
  },
  {
   "cell_type": "code",
   "execution_count": 3,
   "metadata": {},
   "outputs": [],
   "source": [
    "# Read in magnitude data\n",
    "readMikkoData = path_67p+'67p_20230109_I11_R.dat'\n",
    "mjd = []; mag = []; delta = []; rh = []\n",
    "f = open(readMikkoData, 'r')\n",
    "lines = f.readlines()\n",
    "for line in lines:\n",
    "    data = line.split()\n",
    "    mjd.append(float(data[0]))\n",
    "    mag.append(float(data[1]))\n",
    "    rh.append(float(data[6]))\n",
    "    delta.append(float(data[-1]))\n",
    "    "
   ]
  },
  {
   "cell_type": "code",
   "execution_count": 158,
   "metadata": {},
   "outputs": [],
   "source": [
    "# Set limiting Sun distance (only include values greater than this value)\n",
    "rh_limit = 3.5"
   ]
  },
  {
   "cell_type": "code",
   "execution_count": 159,
   "metadata": {},
   "outputs": [],
   "source": [
    "# Want to calculate apparent magnitude of each observation (R-band)\n",
    "# H = m - 5log(delta*rh)\n",
    "\n",
    "m_app = []\n",
    "\n",
    "for i in range(len(mag)):\n",
    "    app_mag = mag[i]+(5.*np.log10(delta[i]*rh[i]))\n",
    "    m_app.append(float('%.4f '%app_mag))\n",
    "    "
   ]
  },
  {
   "cell_type": "code",
   "execution_count": 160,
   "metadata": {},
   "outputs": [
    {
     "name": "stdout",
     "output_type": "stream",
     "text": [
      "n values in table greater than 3.5 AU = 567 (max: 678)\n"
     ]
    }
   ],
   "source": [
    "# Make into a table for convenient storage and manipulation\n",
    "\n",
    "data_table = []\n",
    "np.shape(data_table)\n",
    "\n",
    "for i in range(len(mjd)):\n",
    "    if (rh[i]>=rh_limit):\n",
    "        data_table.append([mjd[i], mag[i], m_app[i], rh[i], delta[i]])\n",
    "print(\"n values in table greater than %.1f AU = %i (max: %i)\"%(rh_limit, len(data_table), len(mjd)))"
   ]
  },
  {
   "cell_type": "code",
   "execution_count": null,
   "metadata": {},
   "outputs": [],
   "source": []
  },
  {
   "cell_type": "code",
   "execution_count": 130,
   "metadata": {},
   "outputs": [],
   "source": [
    "data_table = np.array(data_table)\n",
    "#data_table[:,2]"
   ]
  },
  {
   "cell_type": "code",
   "execution_count": 26,
   "metadata": {},
   "outputs": [],
   "source": [
    "# Reading in FORS2 app mags and corresponding SNRs\n",
    "\n",
    "fors_mags = np.arange(19.1,24.3,0.3)\n",
    "fors_snr = np.array([184.388,144.558,112.606,87.243,67.290,51.712,39.625,30.294,23.118,17.618,13.411,10.201,7.754,5.891,4.474,3.397,2.579,1.957])"
   ]
  },
  {
   "cell_type": "code",
   "execution_count": 31,
   "metadata": {},
   "outputs": [],
   "source": [
    "# Fit exponential function to these values\n",
    "def snrFit(x, m, t, b):\n",
    "    return m * np.exp(-t * x) + b"
   ]
  },
  {
   "cell_type": "code",
   "execution_count": 175,
   "metadata": {},
   "outputs": [
    {
     "data": {
      "text/plain": [
       "array([ 1.63683272e+09,  8.36990781e-01, -1.30651107e+00])"
      ]
     },
     "execution_count": 175,
     "metadata": {},
     "output_type": "execute_result"
    }
   ],
   "source": [
    "p0 = (10000,0.1,-10)    # Initial guess at parameters to fit\n",
    "params, cv = scipy.optimize.curve_fit(snrFit, fors_mags, fors_snr, p0)\n",
    "m, t, b = params\n",
    "params"
   ]
  },
  {
   "cell_type": "code",
   "execution_count": 178,
   "metadata": {},
   "outputs": [
    {
     "data": {
      "image/png": "[encoded data removed]",
      "text/plain": [
       "<Figure size 432x288 with 1 Axes>"
      ]
     },
     "metadata": {
      "needs_background": "light"
     },
     "output_type": "display_data"
    }
   ],
   "source": [
    "# Not going to worry too much about extrapolation of exponent: not relevant here\n",
    "x_test = np.arange(19,25,0.1)\n",
    "y_test = snrFit(x_test,m,t,b)\n",
    "plt.plot(x_test,y_test)\n",
    "plt.scatter(fors_mags,fors_snr, marker='x',color='red')\n",
    "plt.show()"
   ]
  },
  {
   "cell_type": "code",
   "execution_count": 185,
   "metadata": {},
   "outputs": [
    {
     "name": "stdout",
     "output_type": "stream",
     "text": [
      "R² = 0.99989581245338\n",
      "Y = 1.6368e+09 * e^(-0.837 * x) + -1.307\n"
     ]
    }
   ],
   "source": [
    "squaredDiffs = np.square(fors_snr - snrFit(fors_mags, m, t, b))\n",
    "squaredDiffsFromMean = np.square(fors_snr - np.mean(fors_snr))\n",
    "rSquared = 1 - np.sum(squaredDiffs) / np.sum(squaredDiffsFromMean)\n",
    "print(f\"R² = {rSquared}\")\n",
    "print(\"Y = %.4e * e^(-%.3f * x) + %.3f\"%(m,t,b))"
   ]
  },
  {
   "cell_type": "code",
   "execution_count": 91,
   "metadata": {},
   "outputs": [],
   "source": [
    "snr_list = []\n",
    "for i in range(len(data_table)):\n",
    "    snr_list.append(snrFit(data_table[i,2],m,t,b))\n",
    "\n",
    "snr_list=np.array([snr_list])\n",
    "data_table = np.append(data_table,np.transpose(snr_list),axis=1)"
   ]
  },
  {
   "cell_type": "code",
   "execution_count": null,
   "metadata": {},
   "outputs": [],
   "source": []
  },
  {
   "cell_type": "code",
   "execution_count": 119,
   "metadata": {},
   "outputs": [],
   "source": [
    "# Add magnitude uncertainties (1/SNR)\n",
    "data_table = np.append(data_table, np.transpose([1./data_table[:,5]]), axis=1)"
   ]
  },
  {
   "cell_type": "code",
   "execution_count": null,
   "metadata": {},
   "outputs": [],
   "source": []
  },
  {
   "cell_type": "code",
   "execution_count": 128,
   "metadata": {},
   "outputs": [
    {
     "data": {
      "text/plain": [
       "0.3885326223567217"
      ]
     },
     "execution_count": 128,
     "metadata": {},
     "output_type": "execute_result"
    }
   ],
   "source": [
    "max(data_table[:,-1])"
   ]
  },
  {
   "cell_type": "code",
   "execution_count": null,
   "metadata": {},
   "outputs": [],
   "source": []
  }
 ],
 "metadata": {
  "kernelspec": {
   "display_name": "Python 3",
   "language": "python",
   "name": "python3"
  },
  "language_info": {
   "codemirror_mode": {
    "name": "ipython",
    "version": 3
   },
   "file_extension": ".py",
   "mimetype": "text/x-python",
   "name": "python",
   "nbconvert_exporter": "python",
   "pygments_lexer": "ipython3",
   "version": "3.8.3"
  }
 },
 "nbformat": 4,
 "nbformat_minor": 4
}
