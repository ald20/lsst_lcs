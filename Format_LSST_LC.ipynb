{
 "cells": [
  {
   "cell_type": "code",
   "execution_count": 1,
   "metadata": {},
   "outputs": [],
   "source": [
    "import numpy as np\n",
    "import os\n",
    "from astroquery.jplhorizons import Horizons"
   ]
  },
  {
   "cell_type": "code",
   "execution_count": null,
   "metadata": {},
   "outputs": [],
   "source": [
    "# Paths to directories containing data\n",
    "home_path = os.path.expanduser('~/')\n",
    "path_67p = home_path+'Documents/year1/shape_modelling/67p/'"
   ]
  },
  {
   "cell_type": "code",
   "execution_count": null,
   "metadata": {},
   "outputs": [],
   "source": [
    "# Constants\n",
    "km2au = 1.496e8\n",
    "c = 3e5"
   ]
  },
  {
   "cell_type": "code",
   "execution_count": null,
   "metadata": {},
   "outputs": [],
   "source": []
  },
  {
   "cell_type": "code",
   "execution_count": null,
   "metadata": {},
   "outputs": [],
   "source": [
    "### Function to create a file in the 'Mikko' format required for shape modelling \n",
    "\n",
    "def mikkoWrite(filename,day_list,int_list,sunx,suny,sunz,earthx,earthy,earthz, min_dist):\n",
    "# Code to write to lightcurve file in Mikko format\n",
    "# Additional argument to limit files to points beyond min_dist from the sun\n",
    "\n",
    "    counter = 0\n",
    "    fout = open(filename, 'w+')\n",
    "    sameday = []\n",
    "    for i, day in enumerate(day_list[:-1]):\n",
    "        if (np.sqrt(sunx[i]**2+suny[i]**2+sunz[i]**2) >= min_dist):\n",
    "            newday = True\n",
    "            sameday.append(day)\n",
    "            if abs(day-day_list[i+1])<0.5:\n",
    "                newday = False\n",
    "            if newday==False:\n",
    "                if day not in sameday:\n",
    "                    sameday.append(day)\n",
    "            else:\n",
    "                fout.write('%i 1\\n'%(len(sameday)))\n",
    "                for time in sameday:\n",
    "                    loc = day_list.index(time)\n",
    "                    fout.write('%.6f %.8f %.10f %.8f %.8f %.8f %.8f %.8f\\n'%(time+2400000.5,int_list[loc],sunx[loc], suny[loc], sunz[loc], earthx[loc], earthy[loc], earthz[loc]))\n",
    "                counter = counter+1\n",
    "                sameday = []\n",
    "    fout.write('1 1\\n')\n",
    "    fout.write('%.6f %.8f %.10f %.8f %.8f %.8f %.8f %.8f\\n'%(day_list[-1]+2400000.5,int_list[-1],sunx[-1], suny[-1], sunz[-1], earthx[-1], earthy[-1], earthz[-1]))\n",
    "    counter = counter+1\n",
    "    fout.close()\n",
    "    return counter"
   ]
  },
  {
   "cell_type": "code",
   "execution_count": null,
   "metadata": {},
   "outputs": [],
   "source": []
  },
  {
   "cell_type": "code",
   "execution_count": null,
   "metadata": {},
   "outputs": [],
   "source": []
  },
  {
   "cell_type": "code",
   "execution_count": null,
   "metadata": {},
   "outputs": [],
   "source": [
    "# Read LSST sim output\n",
    "\n",
    "lsst_file_name = path_67p+'LSST_out_LC_67P.txt'\n",
    "lsst_file = open(lsst_file_name, 'r')\n",
    "\n",
    "lsst_mjd =[]; lsst_delta=[]\n",
    "lsst_ra = []; lsst_dec = []\n",
    "lsst_sunx = []; lsst_suny = []; lsst_sunz = []\n",
    "lsst_phase_ang = [];\n",
    "lines_lsst = lsst_file.readlines()\n",
    "for line in lines_lsst[25:]:\n",
    "    dat = line.split()\n",
    "    lsst_mjd.append(float(dat[2]))\n",
    "    lsst_delta.append(float(dat[3]))\n",
    "    lsst_ra.append(float(dat[5]))\n",
    "    lsst_dec.append(float(dat[7]))\n",
    "    lsst_sunx.append(float(dat[9]))\n",
    "    lsst_suny.append(float(dat[10]))\n",
    "    lsst_sunz.append(float(dat[11]))\n",
    "    lsst_phase_ang.append(float(dat[21]))\n",
    "\n",
    "lsst_delta = np.array(lsst_delta)/km2au\n",
    "lsst_sunx = np.array(lsst_sunx)/km2au\n",
    "lsst_suny = np.array(lsst_suny)/km2au\n",
    "lsst_sunz = np.array(lsst_sunz)/km2au"
   ]
  },
  {
   "cell_type": "code",
   "execution_count": null,
   "metadata": {},
   "outputs": [],
   "source": [
    "# Check it got everything\n",
    "print(len(lsst_mjd))"
   ]
  },
  {
   "cell_type": "code",
   "execution_count": null,
   "metadata": {},
   "outputs": [],
   "source": []
  },
  {
   "cell_type": "code",
   "execution_count": null,
   "metadata": {},
   "outputs": [],
   "source": [
    "mjd = np.array(lsst_mjd)\n",
    "sun_x = lsst_sunx\n",
    "sun_y = lsst_suny\n",
    "sun_z = lsst_sunz"
   ]
  },
  {
   "cell_type": "markdown",
   "metadata": {},
   "source": [
    "- - - - - - - - - - - - -"
   ]
  },
  {
   "cell_type": "code",
   "execution_count": null,
   "metadata": {},
   "outputs": [],
   "source": []
  },
  {
   "cell_type": "code",
   "execution_count": null,
   "metadata": {},
   "outputs": [],
   "source": [
    "# LSST output only has obj-Sun geom: also need Earth-obj\n",
    "# Also want list of solar phase angles, to compute abs mag from phase function\n",
    "# ^Phase angles in LSST output\n",
    "\n",
    "# Splitting this into 2 because Horizons wouldn't let me do all 678 epochs at once :(\n",
    "obj = Horizons(id='90000694', location='I11',epochs=mjd[:500])"
   ]
  },
  {
   "cell_type": "code",
   "execution_count": null,
   "metadata": {},
   "outputs": [],
   "source": [
    "earth_x = []; earth_y=[]; earth_z=[];\n",
    "ecl_lon = []; ecl_lat = []\n",
    "vec = obj.ephemerides()#refplane='earth')  # LSST vectoral output in equatorial ref frame!!!\n",
    "\n",
    "for i in range(len(vec)):\n",
    "    ecl_lon.append(float(vec['EclLon'][i]))\n",
    "    ecl_lat.append(float(vec['EclLat'][i]))\n",
    "#    earth_x.append(float(vec['x'][i]))\n",
    "#    earth_y.append(float(vec['y'][i]))\n",
    "#    earth_z.append(float(vec['z'][i]))"
   ]
  },
  {
   "cell_type": "code",
   "execution_count": null,
   "metadata": {},
   "outputs": [],
   "source": [
    "# Check output looks sensible\n",
    "vec"
   ]
  },
  {
   "cell_type": "code",
   "execution_count": null,
   "metadata": {},
   "outputs": [],
   "source": [
    "# Now get the remaining 655-500 vectors\n",
    "obj = Horizons(id='90000694', location='I11', epochs=mjd[500:])"
   ]
  },
  {
   "cell_type": "code",
   "execution_count": null,
   "metadata": {},
   "outputs": [],
   "source": [
    "vec = obj.ephemerides()#refplane='earth')  \n",
    "for i in range(len(vec)):\n",
    "    ecl_lon.append(float(vec['EclLon'][i]))\n",
    "    ecl_lat.append(float(vec['EclLat'][i]))\n",
    "#for i in range(len(vec['x'])):\n",
    "    #earth_x.append(float(vec['x'][i]))\n",
    "    #earth_y.append(float(vec['y'][i]))\n",
    "    #earth_z.append(float(vec['z'][i]))"
   ]
  },
  {
   "cell_type": "code",
   "execution_count": null,
   "metadata": {},
   "outputs": [],
   "source": [
    "for i in range(678):\n",
    "    print(f'{ecl_lon[i]:.4f}  {ecl_lat[i]:.4f}')"
   ]
  },
  {
   "cell_type": "code",
   "execution_count": null,
   "metadata": {},
   "outputs": [],
   "source": [
    "# Check this didn't miss anything or double anything\n",
    "len(earth_x)"
   ]
  },
  {
   "cell_type": "code",
   "execution_count": null,
   "metadata": {},
   "outputs": [],
   "source": [
    "# Light time correct the MJDs:\n",
    "delta = lsst_delta # in km\n",
    "#for i in range(len(earth_x)):\n",
    "#    delta.append(np.sqrt(earth_x[i]**2+earth_y[i]**2+earth_z[i]**2))\n",
    "#delta=np.array(delta)\n",
    "mjd_ltc = np.zeros_like(mjd)\n",
    "\n",
    "mjd_ltc = mjd-(((delta*km2au)/c)/(3600*24))\n",
    "mjd_ltc = np.ndarray.tolist(mjd_ltc)"
   ]
  },
  {
   "cell_type": "code",
   "execution_count": null,
   "metadata": {},
   "outputs": [],
   "source": []
  },
  {
   "cell_type": "code",
   "execution_count": null,
   "metadata": {},
   "outputs": [],
   "source": [
    "for i,time in enumerate(mjd_ltc):\n",
    "    print(time, mjd[i])"
   ]
  },
  {
   "cell_type": "code",
   "execution_count": null,
   "metadata": {},
   "outputs": [],
   "source": [
    "sun_xyz = np.array([sun_x, sun_y, sun_z])\n",
    "print(sun_xyz[:,0])\n",
    "earth_xyz = np.array([earth_x, earth_y, earth_z])\n",
    "print(earth_xyz[:,0])"
   ]
  },
  {
   "cell_type": "code",
   "execution_count": null,
   "metadata": {},
   "outputs": [],
   "source": [
    "namestr = path_67p+'test.txt'\n",
    "mikkoWrite(namestr,mjd_ltc,np.ones_like(mjd),sun_x,sun_y,sun_z,earth_x,earth_y,earth_z,0.0)\n",
    "# Go and type the number output rom this cell into the top of the file you've just created\n",
    "# This is the number of lightcurves in total"
   ]
  },
  {
   "cell_type": "code",
   "execution_count": null,
   "metadata": {},
   "outputs": [],
   "source": [
    "# Checking the phase angles: should make this into a function but too lazy\n",
    "alpha_list_calc = []\n",
    "for i in range(len(earth_xyz[1])):\n",
    "    alpha_list_calc.append((360/(2.*np.pi))*np.arccos(np.dot(sun_xyz[:,i],earth_xyz[:,i])/(np.linalg.norm(sun_xyz[:,i])*np.linalg.norm(earth_xyz[:,i]))))"
   ]
  },
  {
   "cell_type": "code",
   "execution_count": null,
   "metadata": {},
   "outputs": [],
   "source": [
    "# This is just to grab ephemeris data to check phase angles\n",
    "# Will also use this to grab rh values for completion's sake\n",
    "obj = Horizons(id='90000696', location='500', epochs=mjd[:500])\n",
    "ephem_table = obj.ephemerides()"
   ]
  },
  {
   "cell_type": "code",
   "execution_count": null,
   "metadata": {},
   "outputs": [],
   "source": [
    "ephem_table"
   ]
  },
  {
   "cell_type": "code",
   "execution_count": null,
   "metadata": {},
   "outputs": [],
   "source": [
    "alpha_list = []; rh_list = []\n",
    "for i,row in enumerate(ephem_table['alpha_true']):\n",
    "    alpha_list.append(float(row))\n",
    "    rh_list.append(float(ephem_table['r'][i]))"
   ]
  },
  {
   "cell_type": "code",
   "execution_count": null,
   "metadata": {},
   "outputs": [],
   "source": [
    "obj = Horizons(id='90000696', location='geocentric', epochs=mjd[500:])\n",
    "ephem_table = obj.ephemerides()"
   ]
  },
  {
   "cell_type": "code",
   "execution_count": null,
   "metadata": {},
   "outputs": [],
   "source": [
    "# Append the rest of the values to the lists\n",
    "for i,row in enumerate(ephem_table['alpha_true']):\n",
    "    alpha_list.append(float(row))\n",
    "    rh_list.append(float(ephem_table['r'][i]))"
   ]
  },
  {
   "cell_type": "code",
   "execution_count": null,
   "metadata": {},
   "outputs": [],
   "source": [
    "for i in range(len(alpha_list)):\n",
    "    print(alpha_list[i], lsst_phase_ang[i])"
   ]
  },
  {
   "cell_type": "code",
   "execution_count": null,
   "metadata": {},
   "outputs": [],
   "source": [
    "####-----Go and use mag_from_phase_func.py to get shifted absolute magnitudes-----#####"
   ]
  },
  {
   "cell_type": "code",
   "execution_count": null,
   "metadata": {},
   "outputs": [],
   "source": [
    "# Read in shifted magnitudes:\n",
    "shifted_mags_file = path_67p+'67P_mag_list_ALL.txt'\n",
    "shifted_mags_list = []\n",
    "magf=open(shifted_mags_file, 'r')\n",
    "lines = magf.readlines()\n",
    "for line in lines:\n",
    "    data = line.split()\n",
    "    shifted_mags_list.append(float(data[0]))\n",
    "#shifted_mags_list"
   ]
  },
  {
   "cell_type": "code",
   "execution_count": null,
   "metadata": {},
   "outputs": [],
   "source": [
    "generate_intensities = []\n",
    "for i in range(len(shifted_mags_list)):\n",
    "    intensity=10.**(-0.4*(shifted_mags_list[i]-corr_fac))\n",
    "    generate_intensities.append(intensity)"
   ]
  },
  {
   "cell_type": "code",
   "execution_count": null,
   "metadata": {},
   "outputs": [],
   "source": [
    "# Final step: read in intensities as calculated from shifts from Matlab script\n",
    "# Obvs if you're using this script to create Mikko file in the first instance, you won't have these\n",
    "intensities_file = path_67p+'67P_int_list_ALL.txt'\n",
    "intensities_list = []\n",
    "intf = open(intensities_file, 'r')\n",
    "lines = intf.readlines()\n",
    "for line in lines:\n",
    "    data = line.split()\n",
    "    intensities_list.append(float(data[0]))\n",
    "intensities_list"
   ]
  },
  {
   "cell_type": "code",
   "execution_count": null,
   "metadata": {},
   "outputs": [],
   "source": [
    "# Create Mikko file with real intensities (not dummy)\n",
    "print(len(generate_intensities))\n",
    "\n",
    "namestr_fin = path_67p+'67P_LC_NU.dat'\n",
    "mikkoWrite(namestr_fin,mjd_ltc,generate_intensities,sun_x,sun_y,sun_z,earth_x,earth_y,earth_z,0.0)\n",
    "# Go and type the number output rom this cell into the top of the file you've just created\n",
    "# This is the number of lightcurves in total"
   ]
  },
  {
   "cell_type": "code",
   "execution_count": null,
   "metadata": {},
   "outputs": [],
   "source": [
    "# Also making standard lightcurve output with dates, magnitudes and 0.01 mag. uncertainty\n",
    "\n",
    "corr_fac = 16    # from mag_from_phase_func py script\n",
    "\n",
    "fout = open(path_67p+'67p_20230109_I11_R.dat', 'w+')\n",
    "for i,day in enumerate(mjd_ltc):\n",
    "    #magnitude = corr_fac -2.5*np.log10(intensities_list[i])\n",
    "    magnitude = shifted_mags_list[i]\n",
    "    fout.write('%.6f %.4f 0.01 %.8f %.8f %.8f %.8f %.8f %.8f %.8f %.8f\\n'%(day+2400000.5, magnitude, sun_x[i], sun_y[i], sun_z[i], rh_list[i], earth_x[i], earth_y[i], earth_z[i], delta[i], ecl_lon[i], ecl_lat[i]), overwrite=False)\n",
    "fout.close()"
   ]
  },
  {
   "cell_type": "code",
   "execution_count": null,
   "metadata": {},
   "outputs": [],
   "source": [
    "generate_intensities"
   ]
  },
  {
   "cell_type": "code",
   "execution_count": null,
   "metadata": {},
   "outputs": [],
   "source": []
  },
  {
   "cell_type": "code",
   "execution_count": null,
   "metadata": {},
   "outputs": [],
   "source": []
  }
 ],
 "metadata": {
  "kernelspec": {
   "display_name": "Python 3",
   "language": "python",
   "name": "python3"
  },
  "language_info": {
   "codemirror_mode": {
    "name": "ipython",
    "version": 3
   },
   "file_extension": ".py",
   "mimetype": "text/x-python",
   "name": "python",
   "nbconvert_exporter": "python",
   "pygments_lexer": "ipython3",
   "version": "3.8.3"
  }
 },
 "nbformat": 4,
 "nbformat_minor": 4
}
