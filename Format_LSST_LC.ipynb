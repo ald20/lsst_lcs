{
 "cells": [
  {
   "cell_type": "code",
   "execution_count": 19,
   "metadata": {},
   "outputs": [],
   "source": [
    "import numpy as np\n",
    "import os\n",
    "from astroquery.jplhorizons import Horizons"
   ]
  },
  {
   "cell_type": "code",
   "execution_count": 20,
   "metadata": {},
   "outputs": [],
   "source": [
    "home_path = os.path.expanduser('~/')\n",
    "path_67p = home_path+'Documents/year1/shape_modelling/67p/'"
   ]
  },
  {
   "cell_type": "code",
   "execution_count": 21,
   "metadata": {},
   "outputs": [],
   "source": [
    "# File taken from columns in OG spreadsheet WITH < 3AU OBS REMOVED**\n",
    "# (just did this in an excel spreadsheet)\n",
    "lc_file = path_67p+'LSST_3AU_sun_comet.dat'"
   ]
  },
  {
   "cell_type": "code",
   "execution_count": 22,
   "metadata": {},
   "outputs": [],
   "source": [
    "mjd = []\n",
    "sun_x = []; sun_y = []; sun_z = []\n",
    "\n",
    "f = open(lc_file, 'r')\n",
    "lines = f.readlines()\n",
    "for line in lines:\n",
    "    data=line.split()\n",
    "    mjd.append(float(data[0]))\n",
    "    sun_x.append(float(data[2]))\n",
    "    sun_y.append(float(data[3]))\n",
    "    sun_z.append(float(data[4]))"
   ]
  },
  {
   "cell_type": "markdown",
   "metadata": {},
   "source": []
  },
  {
   "cell_type": "code",
   "execution_count": 23,
   "metadata": {},
   "outputs": [],
   "source": [
    "# LSST output only has obj-Sun geom: also need Earth-obj\n",
    "# Also want list of solar phase angles, to compute abs mag from phase function\n",
    "\n",
    "# Splitting this into 2 because Horizons wouldn't let me do all 655 epochs at once :(\n",
    "obj = Horizons(id='90000693', location='500',epochs=mjd[:500])"
   ]
  },
  {
   "cell_type": "code",
   "execution_count": 25,
   "metadata": {},
   "outputs": [],
   "source": [
    "earth_x = []; earth_y=[]; earth_z=[];\n",
    "vec = obj.vectors(refplane='earth')  # LSST output in equatorial ref frame!!!\n",
    "for i in range(len(vec['x'])):\n",
    "    earth_x.append(float(vec['x'][i]))\n",
    "    earth_y.append(float(vec['y'][i]))\n",
    "    earth_z.append(float(vec['z'][i]))"
   ]
  },
  {
   "cell_type": "code",
   "execution_count": 26,
   "metadata": {},
   "outputs": [
    {
     "data": {
      "text/html": [
       "<i>Table masked=True length=500</i>\n",
       "<table id=\"table140572260349216\" class=\"table-striped table-bordered table-condensed\">\n",
       "<thead><tr><th>targetname</th><th>datetime_jd</th><th>datetime_str</th><th>M1</th><th>M2</th><th>k1</th><th>k2</th><th>phasecoeff</th><th>x</th><th>y</th><th>z</th><th>vx</th><th>vy</th><th>vz</th><th>lighttime</th><th>range</th><th>range_rate</th></tr></thead>\n",
       "<thead><tr><th>---</th><th>d</th><th>---</th><th>mag</th><th>mag</th><th>---</th><th>---</th><th>mag / deg</th><th>AU</th><th>AU</th><th>AU</th><th>AU / d</th><th>AU / d</th><th>AU / d</th><th>d</th><th>AU</th><th>AU / d</th></tr></thead>\n",
       "<thead><tr><th>str25</th><th>float64</th><th>str30</th><th>float64</th><th>float64</th><th>float64</th><th>float64</th><th>float64</th><th>float64</th><th>float64</th><th>float64</th><th>float64</th><th>float64</th><th>float64</th><th>float64</th><th>float64</th><th>float64</th></tr></thead>\n",
       "<tr><td>67P/Churyumov-Gerasimenko</td><td>2459953.863937</td><td>A.D. 2023-Jan-09 08:44:04.1568</td><td>11.0</td><td>13.9</td><td>12.25</td><td>5.0</td><td>0.03</td><td>-3.444507550839725</td><td>-2.015299434893513</td><td>-0.7824767900472543</td><td>0.0136151232058168</td><td>-0.001640122462597969</td><td>-0.001023023336391795</td><td>0.02348750285887415</td><td>4.066735054934935</td><td>-0.01052233898239546</td></tr>\n",
       "<tr><td>67P/Churyumov-Gerasimenko</td><td>2459956.868077</td><td>A.D. 2023-Jan-12 08:50:01.8528</td><td>11.0</td><td>13.9</td><td>12.25</td><td>5.0</td><td>0.03</td><td>-3.403980486305475</td><td>-2.019010618092604</td><td>-0.7850255482630261</td><td>0.0133581633439457</td><td>-0.0008328123718247615</td><td>-0.000674750606178298</td><td>0.02330316234953832</td><td>4.034817485159</td><td>-0.01072161851896468</td></tr>\n",
       "<tr><td>67P/Churyumov-Gerasimenko</td><td>2459957.822871</td><td>A.D. 2023-Jan-13 07:44:56.0544</td><td>11.0</td><td>13.9</td><td>12.25</td><td>5.0</td><td>0.03</td><td>-3.391269338533897</td><td>-2.019684551018559</td><td>-0.785617485401405</td><td>0.01326702018707859</td><td>-0.0005791128586201759</td><td>-0.0005652774029997287</td><td>0.02324388062877702</td><td>4.024553173393488</td><td>-0.01077841931749734</td></tr>\n",
       "<tr><td>67P/Churyumov-Gerasimenko</td><td>2459964.842786</td><td>A.D. 2023-Jan-20 08:13:36.7104</td><td>11.0</td><td>13.9</td><td>12.25</td><td>5.0</td><td>0.03</td><td>-3.300841541600359</td><td>-2.017324421929434</td><td>-0.7868109885510691</td><td>0.01245370106999689</td><td>0.001235311086855243</td><td>0.0002185458387100065</td><td>0.02279993248169711</td><td>3.947685934540927</td><td>-0.01108793152644783</td></tr>\n",
       "<tr><td>67P/Churyumov-Gerasimenko</td><td>2459966.871729</td><td>A.D. 2023-Jan-22 08:55:17.3856</td><td>11.0</td><td>13.9</td><td>12.25</td><td>5.0</td><td>0.03</td><td>-3.275857081570041</td><td>-2.014305209459407</td><td>-0.7861457359036982</td><td>0.01217081269076075</td><td>0.001738939524077199</td><td>0.0004364083264157982</td><td>0.02266969315223143</td><td>3.925135693680852</td><td>-0.01113736742887081</td></tr>\n",
       "<tr><td>67P/Churyumov-Gerasimenko</td><td>2459966.876288</td><td>A.D. 2023-Jan-22 09:01:51.2832</td><td>11.0</td><td>13.9</td><td>12.25</td><td>5.0</td><td>0.03</td><td>-3.275801596337988</td><td>-2.014297279084376</td><td>-0.7861437452150545</td><td>0.01217015330572303</td><td>0.001740058064634656</td><td>0.0004368922359865737</td><td>0.0226693998976264</td><td>3.925084918219985</td><td>-0.01113745635090277</td></tr>\n",
       "<tr><td>67P/Churyumov-Gerasimenko</td><td>2459970.830448</td><td>A.D. 2023-Jan-26 07:55:50.7072</td><td>11.0</td><td>13.9</td><td>12.25</td><td>5.0</td><td>0.03</td><td>-3.228859618664961</td><td>-2.005530730112153</td><td>-0.7836003814604762</td><td>0.01156078853651734</td><td>0.002685690649930958</td><td>0.00084585838074295</td><td>0.02241445664734323</td><td>3.880942862796929</td><td>-0.01117697808981592</td></tr>\n",
       "<tr><td>67P/Churyumov-Gerasimenko</td><td>2459970.830859</td><td>A.D. 2023-Jan-26 07:56:26.2176</td><td>11.0</td><td>13.9</td><td>12.25</td><td>5.0</td><td>0.03</td><td>-3.228854867194669</td><td>-2.005529626273644</td><td>-0.7836000338041871</td><td>0.0115607215126621</td><td>0.002685786301514825</td><td>0.0008458997229605441</td><td>0.02241443011612507</td><td>3.880938269058905</td><td>-0.01117697834034203</td></tr>\n",
       "<tr><td>67P/Churyumov-Gerasimenko</td><td>2459970.8455</td><td>A.D. 2023-Jan-26 08:17:31.2000</td><td>11.0</td><td>13.9</td><td>12.25</td><td>5.0</td><td>0.03</td><td>-3.228685624151648</td><td>-2.005490278734456</td><td>-0.7835876382060364</td><td>0.01155833345691509</td><td>0.002689193320727242</td><td>0.000847372289451367</td><td>0.02241348499758381</td><td>3.880774626856246</td><td>-0.01117698675018369</td></tr>\n",
       "<tr><td>...</td><td>...</td><td>...</td><td>...</td><td>...</td><td>...</td><td>...</td><td>...</td><td>...</td><td>...</td><td>...</td><td>...</td><td>...</td><td>...</td><td>...</td><td>...</td><td>...</td></tr>\n",
       "<tr><td>67P/Churyumov-Gerasimenko</td><td>2462599.72023</td><td>A.D. 2030-Apr-08 05:17:07.8720</td><td>11.0</td><td>13.9</td><td>12.25</td><td>5.0</td><td>0.03</td><td>-3.078949989800653</td><td>-2.59753732150298</td><td>-1.136506151985354</td><td>-0.00433097221068387</td><td>0.01013222552472693</td><td>0.004039091326324319</td><td>0.02417368667434571</td><td>4.185544099611766</td><td>-0.004198842212385171</td></tr>\n",
       "<tr><td>67P/Churyumov-Gerasimenko</td><td>2462600.76828</td><td>A.D. 2030-Apr-09 06:26:19.3920</td><td>11.0</td><td>13.9</td><td>12.25</td><td>5.0</td><td>0.03</td><td>-3.083638098910787</td><td>-2.586962405708744</td><td>-1.132292095331025</td><td>-0.004614997967835049</td><td>0.01004713961313223</td><td>0.004002272847848339</td><td>0.0241491845460209</td><td>4.181301687603231</td><td>-0.003896473402373355</td></tr>\n",
       "<tr><td>67P/Churyumov-Gerasimenko</td><td>2462600.785792</td><td>A.D. 2030-Apr-09 06:51:32.4288</td><td>11.0</td><td>13.9</td><td>12.25</td><td>5.0</td><td>0.03</td><td>-3.083718958141398</td><td>-2.586786473006054</td><td>-1.13222201306817</td><td>-0.004619724462229594</td><td>0.01004567680682079</td><td>0.004001640121147619</td><td>0.02414879071005867</td><td>4.181233497020217</td><td>-0.003891395688770626</td></tr>\n",
       "<tr><td>67P/Churyumov-Gerasimenko</td><td>2462603.717713</td><td>A.D. 2030-Apr-12 05:13:30.4032</td><td>11.0</td><td>13.9</td><td>12.25</td><td>5.0</td><td>0.03</td><td>-3.098414484328827</td><td>-2.557710632675964</td><td>-1.120652599751912</td><td>-0.005401582949944472</td><td>0.00978223420813455</td><td>0.003887806365518279</td><td>0.02409015584219076</td><td>4.171081184361325</td><td>-0.003030548039511804</td></tr>\n",
       "<tr><td>67P/Churyumov-Gerasimenko</td><td>2462603.718133</td><td>A.D. 2030-Apr-12 05:14:06.6912</td><td>11.0</td><td>13.9</td><td>12.25</td><td>5.0</td><td>0.03</td><td>-3.098416753016899</td><td>-2.557706524146051</td><td>-1.120650966876889</td><td>-0.005401693554843066</td><td>0.009782193888187633</td><td>0.003887788958048176</td><td>0.024090148491088</td><td>4.171079911557337</td><td>-0.003030423306711611</td></tr>\n",
       "<tr><td>67P/Churyumov-Gerasimenko</td><td>2462603.734407</td><td>A.D. 2030-Apr-12 05:37:32.7648</td><td>11.0</td><td>13.9</td><td>12.25</td><td>5.0</td><td>0.03</td><td>-3.098504695048603</td><td>-2.55754734143824</td><td>-1.120587702489087</td><td>-0.005405978913572846</td><td>0.009780631030422813</td><td>0.003887114222870635</td><td>0.0240898638863641</td><td>4.171030633776959</td><td>-0.003025589919798489</td></tr>\n",
       "<tr><td>67P/Churyumov-Gerasimenko</td><td>2462603.73483</td><td>A.D. 2030-Apr-12 05:38:09.3120</td><td>11.0</td><td>13.9</td><td>12.25</td><td>5.0</td><td>0.03</td><td>-3.098506981801253</td><td>-2.557543204239885</td><td>-1.120586058243472</td><td>-0.005406090291986755</td><td>0.009780590393581257</td><td>0.003887096678732515</td><td>0.02408985649486745</td><td>4.171029353978987</td><td>-0.003025464281085097</td></tr>\n",
       "<tr><td>67P/Churyumov-Gerasimenko</td><td>2462607.684587</td><td>A.D. 2030-Apr-16 04:25:48.3168</td><td>11.0</td><td>13.9</td><td>12.25</td><td>5.0</td><td>0.03</td><td>-3.12188911602018</td><td>-2.519702472385134</td><td>-1.105573969677566</td><td>-0.006427441940311289</td><td>0.009370403198712495</td><td>0.003710114292616367</td><td>0.02403433639088527</td><td>4.161416345968957</td><td>-0.00183751689820329</td></tr>\n",
       "<tr><td>67P/Churyumov-Gerasimenko</td><td>2462607.706452</td><td>A.D. 2030-Apr-16 04:57:17.4528</td><td>11.0</td><td>13.9</td><td>12.25</td><td>5.0</td><td>0.03</td><td>-3.122029712711738</td><td>-2.519497615140175</td><td>-1.105492859513424</td><td>-0.006432991584847877</td><td>0.009367967879628635</td><td>0.003709063642369573</td><td>0.02403410476600303</td><td>4.161376241363803</td><td>-0.001830866711426682</td></tr>\n",
       "<tr><td>67P/Churyumov-Gerasimenko</td><td>2462615.771831</td><td>A.D. 2030-Apr-24 06:31:26.1984</td><td>11.0</td><td>13.9</td><td>12.25</td><td>5.0</td><td>0.03</td><td>-3.181970261445192</td><td>-2.447881981350864</td><td>-1.077280888850324</td><td>-0.008406370395239489</td><td>0.008350750423681632</td><td>0.003268969089847063</td><td>0.02400670811282417</td><td>4.156632657912647</td><td>0.0006701509163720795</td></tr>\n",
       "</table>"
      ],
      "text/plain": [
       "<Table masked=True length=500>\n",
       "        targetname         datetime_jd   ...       range_rate     \n",
       "           ---                  d        ...         AU / d       \n",
       "          str25              float64     ...        float64       \n",
       "------------------------- -------------- ... ---------------------\n",
       "67P/Churyumov-Gerasimenko 2459953.863937 ...  -0.01052233898239546\n",
       "67P/Churyumov-Gerasimenko 2459956.868077 ...  -0.01072161851896468\n",
       "67P/Churyumov-Gerasimenko 2459957.822871 ...  -0.01077841931749734\n",
       "67P/Churyumov-Gerasimenko 2459964.842786 ...  -0.01108793152644783\n",
       "67P/Churyumov-Gerasimenko 2459966.871729 ...  -0.01113736742887081\n",
       "67P/Churyumov-Gerasimenko 2459966.876288 ...  -0.01113745635090277\n",
       "67P/Churyumov-Gerasimenko 2459970.830448 ...  -0.01117697808981592\n",
       "67P/Churyumov-Gerasimenko 2459970.830859 ...  -0.01117697834034203\n",
       "67P/Churyumov-Gerasimenko   2459970.8455 ...  -0.01117698675018369\n",
       "                      ...            ... ...                   ...\n",
       "67P/Churyumov-Gerasimenko  2462599.72023 ... -0.004198842212385171\n",
       "67P/Churyumov-Gerasimenko  2462600.76828 ... -0.003896473402373355\n",
       "67P/Churyumov-Gerasimenko 2462600.785792 ... -0.003891395688770626\n",
       "67P/Churyumov-Gerasimenko 2462603.717713 ... -0.003030548039511804\n",
       "67P/Churyumov-Gerasimenko 2462603.718133 ... -0.003030423306711611\n",
       "67P/Churyumov-Gerasimenko 2462603.734407 ... -0.003025589919798489\n",
       "67P/Churyumov-Gerasimenko  2462603.73483 ... -0.003025464281085097\n",
       "67P/Churyumov-Gerasimenko 2462607.684587 ...  -0.00183751689820329\n",
       "67P/Churyumov-Gerasimenko 2462607.706452 ... -0.001830866711426682\n",
       "67P/Churyumov-Gerasimenko 2462615.771831 ... 0.0006701509163720795"
      ]
     },
     "execution_count": 26,
     "metadata": {},
     "output_type": "execute_result"
    }
   ],
   "source": [
    "# Check output looks sensible\n",
    "vec"
   ]
  },
  {
   "cell_type": "code",
   "execution_count": 27,
   "metadata": {},
   "outputs": [],
   "source": [
    "# Now get the remaining 655-500 vectors\n",
    "obj = Horizons(id='90000693', location='500', epochs=mjd[500:])"
   ]
  },
  {
   "cell_type": "code",
   "execution_count": 28,
   "metadata": {},
   "outputs": [],
   "source": [
    "vec = obj.vectors(refplane='earth')  \n",
    "for i in range(len(vec['x'])):\n",
    "    earth_x.append(float(vec['x'][i]))\n",
    "    earth_y.append(float(vec['y'][i]))\n",
    "    earth_z.append(float(vec['z'][i]))"
   ]
  },
  {
   "cell_type": "code",
   "execution_count": 1,
   "metadata": {},
   "outputs": [],
   "source": [
    "# Check this didn't miss anything or double anything\n",
    "#earth_x[495:]"
   ]
  },
  {
   "cell_type": "code",
   "execution_count": null,
   "metadata": {},
   "outputs": [],
   "source": []
  },
  {
   "cell_type": "code",
   "execution_count": 109,
   "metadata": {},
   "outputs": [
    {
     "name": "stdout",
     "output_type": "stream",
     "text": [
      "[-3.75625676 -1.15950396 -0.41150245]\n"
     ]
    }
   ],
   "source": [
    "sun_xyz = np.array([sun_x, sun_y, sun_z])\n",
    "print(sun_xyz[:,0])\n",
    "earth_xyz = np.array([earth_x, earth_y, earth_z])"
   ]
  },
  {
   "cell_type": "code",
   "execution_count": 110,
   "metadata": {},
   "outputs": [],
   "source": []
  },
  {
   "cell_type": "code",
   "execution_count": 111,
   "metadata": {},
   "outputs": [],
   "source": [
    "# Checking the phase angles: should make this into a function but too lazy\n",
    "alpha_list_calc = []\n",
    "for i in range(len(earth_xyz[1])):\n",
    "    alpha_list_calc.append((360/(2.*np.pi))*np.arccos(np.dot(sun_xyz[:,i],earth_xyz[:,i])/(np.linalg.norm(sun_xyz[:,i])*np.linalg.norm(earth_xyz[:,i]))))"
   ]
  },
  {
   "cell_type": "code",
   "execution_count": 30,
   "metadata": {},
   "outputs": [],
   "source": [
    "# This is just to grab ephemeris data to check phase angles\n",
    "obj = Horizons(id='90000693', location='geocentric', epochs=mjd[:500])\n",
    "ephem_table = obj.ephemerides(quantities='43')"
   ]
  },
  {
   "cell_type": "code",
   "execution_count": 31,
   "metadata": {},
   "outputs": [],
   "source": [
    "#ephem_table"
   ]
  },
  {
   "cell_type": "code",
   "execution_count": 32,
   "metadata": {},
   "outputs": [],
   "source": [
    "alpha_list = []\n",
    "for row in ephem_table['alpha_true']:\n",
    "    alpha_list.append(float(row))"
   ]
  },
  {
   "cell_type": "code",
   "execution_count": 33,
   "metadata": {},
   "outputs": [],
   "source": [
    "obj = Horizons(id='90000693', location='geocentric', epochs=mjd[500:])\n",
    "ephem_table = obj.ephemerides()"
   ]
  },
  {
   "cell_type": "code",
   "execution_count": 34,
   "metadata": {},
   "outputs": [],
   "source": [
    "for row in ephem_table['alpha_true']:\n",
    "    alpha_list.append(float(row))"
   ]
  },
  {
   "cell_type": "code",
   "execution_count": 37,
   "metadata": {},
   "outputs": [],
   "source": [
    "#alpha_list"
   ]
  },
  {
   "cell_type": "code",
   "execution_count": null,
   "metadata": {},
   "outputs": [],
   "source": []
  },
  {
   "cell_type": "code",
   "execution_count": 39,
   "metadata": {},
   "outputs": [],
   "source": [
    "# Final step: read in intensities as calculated from shifts from Matlab script\n",
    "# Obvs if you're using this script to create Mikko file in the first instance, you won't have these\n",
    "intensities_file = path_67p+'67P_LSST_3AU_intensities.txt'\n",
    "intensities_list = []\n",
    "intf = open(intensities_file, 'r')\n",
    "lines = intf.readlines()\n",
    "for line in lines:\n",
    "    data = line.split()\n",
    "    intensities_list.append(float(data[0]))\n",
    "#intensities_list"
   ]
  },
  {
   "cell_type": "code",
   "execution_count": null,
   "metadata": {},
   "outputs": [],
   "source": [
    "# Code to write to lightcurve file in Mikko format\n",
    "# Uncomment fouts/change to print if necessary\n",
    "\n",
    "#fout = open(path_67p+'67P_LC_LSST_3AU_NU.dat', 'w+')\n",
    "sameday = []\n",
    "fout.write('314\\n')\n",
    "for i, day in enumerate(mjd[:-1]):\n",
    "    newday = True\n",
    "    sameday.append(day)\n",
    "    if abs(day-mjd[i+1])<0.5:\n",
    "        newday = False\n",
    "    if newday==False:\n",
    "        if day not in sameday:\n",
    "            sameday.append(day)\n",
    "    else:\n",
    "        #fout.write('%i 1\\n'%(len(sameday)))\n",
    "        for time in sameday:\n",
    "            loc = mjd.index(time)\n",
    "            #fout.write('%.6f %.6e %.10f %.8f %.8f %.8f %.8f %.8f\\n'%(time+2400000.5,intensities_list[loc],sun_x[loc], sun_y[loc], sun_z[loc], earth_x[loc], earth_y[loc], earth_z[loc]))\n",
    "        sameday = []\n",
    "#fout.write('1 1\\n')\n",
    "#fout.write('%.6f %.6e %.10f %.8f %.8f %.8f %.8f %.8f\\n'%(mjd[-1]+2400000.5,intensities_list[-1],sun_x[-1], sun_y[-1], sun_z[-1], earth_x[-1], earth_y[-1], earth_z[-1]))\n",
    "\n",
    "#fout.close()"
   ]
  },
  {
   "cell_type": "code",
   "execution_count": null,
   "metadata": {},
   "outputs": [],
   "source": [
    "# Also making standard lightcurve output with dates, magnitudes and 0.01 mag. uncertainty\n",
    "\n",
    "corr_fac = 16    # from mag_from_phase_func py script\n",
    "\n",
    "#fout = open(path_67p+'67p_20210109_I11_R.dat', 'w+')\n",
    "for i,day in enumerate(mjd):\n",
    "    magnitude = corr_fac -2.5*np.log10(intensities_list[i])\n",
    "    #fout.write('%.6f %.4f 0.01\\n'%(day+2400000.5, magnitude))\n",
    "#fout.close()"
   ]
  }
 ],
 "metadata": {
  "kernelspec": {
   "display_name": "Python 3",
   "language": "python",
   "name": "python3"
  },
  "language_info": {
   "codemirror_mode": {
    "name": "ipython",
    "version": 3
   },
   "file_extension": ".py",
   "mimetype": "text/x-python",
   "name": "python",
   "nbconvert_exporter": "python",
   "pygments_lexer": "ipython3",
   "version": "3.8.3"
  }
 },
 "nbformat": 4,
 "nbformat_minor": 4
}
