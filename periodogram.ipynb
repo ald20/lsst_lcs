{
 "cells": [
  {
   "cell_type": "code",
   "execution_count": null,
   "metadata": {},
   "outputs": [],
   "source": [
    "import os\n",
    "import numpy as np\n",
    "import pandas as pd\n",
    "from astropy.timeseries import LombScargle\n",
    "import matplotlib.pyplot as plt\n",
    "#plt.rcParams.update({\"text.usetex\": True, \"font.family\": \"sans-serif\", \"font.sans-serif\": [\"Helvetica\"]})\n",
    "plt.rc('text', usetex=True)\n",
    "plt.rc('font', family='serif')\n",
    "from astropy import units as u\n",
    "from gatspy.periodic import LombScargleFast\n",
    "from astroquery.jplhorizons import Horizons"
   ]
  },
  {
   "cell_type": "code",
   "execution_count": null,
   "metadata": {},
   "outputs": [],
   "source": [
    "#####-----CONSTANTS/stuff to check-----#####\n",
    "\n",
    "beta = 0.059   # standard value of phase slope by which to correct apparent mags\n",
    "real_period = 12.4041/24. # hours\n",
    "phase_to_real_period = False\n",
    "limiting_rh = 0.0  # Value of rh beyond which to accept data points (minimise possibility of activity)\n",
    "obj = '90000695'"
   ]
  },
  {
   "cell_type": "code",
   "execution_count": null,
   "metadata": {},
   "outputs": [],
   "source": [
    "# read in lightcurve data\n",
    "home_path = os.path.expanduser('~/')\n",
    "data_dir = home_path+'Documents/year1/shape_modelling/67p/'\n",
    "file = data_dir+'67P_LCs_ALL_R.dat'\n",
    "\n",
    "data = pd.read_table(file, sep=' ')\n",
    "data_table = data.to_numpy()\n",
    "\n",
    "col_names = []\n",
    "for col in data:\n",
    "    col_names.append(col)\n",
    "print('Column names for table:')\n",
    "print(', '.join(col_names))"
   ]
  },
  {
   "cell_type": "code",
   "execution_count": null,
   "metadata": {},
   "outputs": [],
   "source": []
  },
  {
   "cell_type": "code",
   "execution_count": null,
   "metadata": {},
   "outputs": [],
   "source": [
    "# Rename necessary columns to their respective column names:\n",
    "mjd = data_table[:,0]\n",
    "app_mag = data_table[:,2]\n",
    "rh = data_table[:,3]\n",
    "delta = data_table[:,4]\n",
    "alpha = data_table[:,5]\n",
    "unc = data_table[:,-1]"
   ]
  },
  {
   "cell_type": "code",
   "execution_count": null,
   "metadata": {},
   "outputs": [],
   "source": [
    "# Now treating the lightcurve points as if they are real, apparent magnitudes obtained observationally\n",
    "# Will correct for distance and for standard phase function with slope beta=0.045\n",
    "\n",
    "# Absolute magnitude correction:\n",
    "\n",
    "def convertToH0(m,b,a,r,d):\n",
    "    H_r = m - (b*a) - (5.0*np.log10(r*d))\n",
    "    return H_r"
   ]
  },
  {
   "cell_type": "code",
   "execution_count": null,
   "metadata": {},
   "outputs": [],
   "source": [
    "# Generate list of absolutely corrected magnitudes:\n",
    "# Account here for minimum distance to the sun\n",
    "magsPeriod = []; mjdPeriod = []; uncPeriod = []; rhPeriod=[]\n",
    "\n",
    "for i in range(len(app_mag)):\n",
    "    if (rh[i]>=limiting_rh):\n",
    "        magsPeriod.append(convertToH0(app_mag[i], beta, alpha[i], rh[i], delta[i]))\n",
    "        mjdPeriod.append(mjd[i])\n",
    "        uncPeriod.append(unc[i])\n",
    "        rhPeriod.append(rh[i])\n",
    "magsPeriod=np.array(magsPeriod)\n",
    "npoints = len(magsPeriod)\n",
    "print('No. values at heliocentric distance >%.1fau is %i out of possible %i'%(limiting_rh, npoints, len(app_mag)))\n",
    "# Rescale points in mjdPeriod to=0\n",
    "mjdPeriod = np.array(mjdPeriod)#-mjdPeriod[0]"
   ]
  },
  {
   "cell_type": "code",
   "execution_count": null,
   "metadata": {},
   "outputs": [],
   "source": [
    "t_days = np.array(mjdPeriod)#*u.day\n",
    "mags = magsPeriod#*u.mag\n",
    "mags_unc = uncPeriod#*u.mag"
   ]
  },
  {
   "cell_type": "code",
   "execution_count": null,
   "metadata": {},
   "outputs": [],
   "source": [
    "# Import perihelion time for 67P\n",
    "peri_mjd = []\n",
    "comet = Horizons(id=obj, location='500@0', epochs=mjdPeriod[0])\n",
    "els = comet.elements(refplane='earth')\n",
    "peri_mjd.append(float(els['Tp_jd']))\n",
    "per = float(els['P'])\n",
    "print(peri_mjd, per/365.)"
   ]
  },
  {
   "cell_type": "code",
   "execution_count": null,
   "metadata": {},
   "outputs": [],
   "source": [
    "# Find next point one orbital period along to draw lines on the plot\n",
    "\n",
    "mjd_newepoch = mjdPeriod[0]+per\n",
    "\n",
    "for i in range(len(mjdPeriod)):\n",
    "    if mjdPeriod[i]>=mjd_newepoch:\n",
    "        index_newepoch = i\n",
    "        break"
   ]
  },
  {
   "cell_type": "code",
   "execution_count": null,
   "metadata": {},
   "outputs": [],
   "source": [
    "comet = Horizons(id=obj, location='500@0', epochs=mjdPeriod[index_newepoch])\n",
    "els = comet.elements(refplane='earth')\n",
    "peri_mjd.append(float(els['Tp_jd']))\n",
    "print(peri_mjd)"
   ]
  },
  {
   "cell_type": "code",
   "execution_count": null,
   "metadata": {},
   "outputs": [],
   "source": [
    "# Have a look at data\n",
    "labels=16; ticks=12; titles=18\n",
    "plt.figure(figsize=(14,8))\n",
    "for apparition in peri_mjd:\n",
    "    v = plt.axvline(apparition, linestyle='--', color='grey')\n",
    "plt.scatter(mjdPeriod, magsPeriod, c=rhPeriod, cmap='viridis_r', s=100, label='r$_h >$ %.1f au'%(limiting_rh))\n",
    "#plt.errorbar(mjdPeriod, magsPeriod, yerr=uncPeriod, fmt='.',ecolor='rhPeriod')\n",
    "plt.xlabel('time (MJD)', fontsize=labels)\n",
    "plt.ylabel('H$_R$(1,1,0)', fontsize=labels)\n",
    "plt.xticks(fontsize=ticks)\n",
    "plt.yticks(fontsize=ticks)\n",
    "plt.gca().invert_yaxis()\n",
    "\n",
    "# Set colourbar to be actually readable and useful\n",
    "cbar = plt.colorbar()#ticks = [3.6, 4.0, 4.5, 5.0, 5.5])\n",
    "cbar.set_label(r' r$_h$ (au)', rotation=0,  labelpad=35, fontsize=20)\n",
    "cbar.ax.tick_params(labelsize=14)\n",
    "#cbar.ax.set_yticklabels(['3.6', '4.0', '4.5', '5.0', '5.5'])\n",
    "plt.title(r\"%s points \\textgreater %.1f au w/ heliocentric distance colour scaling\"%(str(npoints), limiting_rh), fontsize=titles)\n",
    "plt.legend(loc=4, fontsize=ticks)\n",
    "plt.show()\n",
    "#plt.savefig(datadir+'paper_pics/'+'')\n",
    "#fig, ax = plt.subplots(figsize=(16, 6))\n",
    "#ax.errorbar(mjdPeriod, magsPeriod, uncPeriod, fmt='.k', ecolor='gray', capsize=0)\n",
    "#ax.set(xlabel='time (MJD)', ylabel='magnitude', title='67P LSST magnitudes')\n",
    "#ax.invert_yaxis()"
   ]
  },
  {
   "cell_type": "code",
   "execution_count": null,
   "metadata": {},
   "outputs": [],
   "source": [
    "# Choosing Nyquist sampling frequency:\n",
    "# Just out of curiosity, doesn't really work with uneven sampling\n",
    "tdiff = []\n",
    "\n",
    "for i,time in enumerate(t_days[1:-1]):\n",
    "    tdiff.append(abs(time-t_days[i]))\n",
    "print(1./(2.*np.mean(tdiff)), 1./(2.*np.median(tdiff)), 1./(2.*max(tdiff)), 1./(2.*min(tdiff)))"
   ]
  },
  {
   "cell_type": "code",
   "execution_count": null,
   "metadata": {},
   "outputs": [],
   "source": [
    "# Trialling different periodogram methods:\n",
    "#  i) gatspy LombScargleFast\n",
    "# ii) Astropy"
   ]
  },
  {
   "cell_type": "code",
   "execution_count": null,
   "metadata": {},
   "outputs": [],
   "source": [
    "# period range to sample:\n",
    "\n",
    "min_prot=0.1#*u.day # days\n",
    "max_prot=2.#*u.day # days\n",
    "Nsample = 100000\n",
    "# Define frequency range:\n",
    "freq = np.linspace(1./max_prot, 1./min_prot, Nsample)"
   ]
  },
  {
   "cell_type": "code",
   "execution_count": null,
   "metadata": {},
   "outputs": [],
   "source": [
    "# i)\n",
    "\n",
    "model_gp = LombScargleFast().fit(t_days, mags, mags_unc)\n",
    "model_gp.optimizer.set(period_range=(min_prot,max_prot))\n",
    "best_period_gp = model_gp.best_period\n",
    "print(\"Best period (gatspy) = {0:.6f}h\".format((best_period_gp)*24.))\n",
    "\n",
    "periods_gp = np.linspace(min_prot, max_prot, Nsample)\n",
    "power_gp = model_gp.periodogram(periods_gp)"
   ]
  },
  {
   "cell_type": "code",
   "execution_count": null,
   "metadata": {},
   "outputs": [],
   "source": [
    "#index_max_gp = np.where(power_gp==max(power_gp))\n",
    "print(periods_gp[np.argmax(power_gp)]*24.)"
   ]
  },
  {
   "cell_type": "code",
   "execution_count": null,
   "metadata": {},
   "outputs": [],
   "source": [
    "plt.figure(figsize=(14,7))\n",
    "plt.plot(periods_gp, power_gp,color='k',linewidth=0.5)\n",
    "plt.xticks(fontsize=ticks)\n",
    "plt.yticks(fontsize=ticks)\n",
    "plt.xlabel('Period (d)', fontsize=labels)\n",
    "plt.ylabel('LS power', fontsize=labels)\n",
    "plt.title('Gatspy periodogram %i LC points: %.4f h'%(npoints, best_period_gp*24.), fontsize=titles)\n",
    "plt.show()"
   ]
  },
  {
   "cell_type": "code",
   "execution_count": null,
   "metadata": {},
   "outputs": [],
   "source": [
    "# Phase the data to the best period\n",
    "multiplier = 2.\n",
    "\n",
    "if phase_to_real_period==True:\n",
    "    final_period_gp = real_period\n",
    "    phase_gp = t_days/final_period_gp % 1\n",
    "    print('Using real period %.4f'%(real_period*24.))\n",
    "else:\n",
    "    final_period_gp = multiplier*best_period_gp\n",
    "    phase_gp = t_days/final_period_gp % 1\n",
    "    print('Phase to %.1fx best-fit LS (gatspy) period %.4f h'%(multiplier, best_period_gp*24.))"
   ]
  },
  {
   "cell_type": "code",
   "execution_count": null,
   "metadata": {},
   "outputs": [],
   "source": [
    "#fig, ax = plt.subplots(1, 2, figsize=(16, 6))\n",
    "#ax[0].plot(periods_gp, power_gp)\n",
    "#ax[0].set(xlabel='Period (days)', ylabel='Lomb-Scargle Power', title='Lomb-Scargle Periodogram')\n",
    "\n",
    "#ax[1].errorbar(phase_gp, magsPeriod, uncPeriod, fmt='.k', ecolor='gray', capsize=0, label='P: %.4f h'%(real_period*24.))#multiplier*24.*best_period_gp))\n",
    "#ax[1].set(xlabel='phase', ylabel='magnitude', title='Phased Data')\n",
    "#ax[1].invert_yaxis()\n",
    "#ax[1].legend(loc=4)\n",
    "#plt.show()\n",
    "\n",
    "plt.figure(figsize=(14,8))\n",
    "plt.scatter(phase_gp, magsPeriod, c=rhPeriod, cmap='viridis_r', s=50, label='P: %.4f h'%(24.*final_period_gp), zorder=2)\n",
    "plt.errorbar(phase_gp, magsPeriod, yerr=mags_unc, fmt=\".\", color=\"gray\", elinewidth=0.7,capsize=2, zorder=1)\n",
    "plt.xlabel('Rotational phase', fontsize=labels);plt.ylabel('H$_R$(1,1,0)', fontsize=labels)\n",
    "plt.xticks(fontsize=ticks); plt.yticks(fontsize=ticks)\n",
    "cbar = plt.colorbar()#ticks = [3.6, 4.0, 4.5, 5.0, 5.5])\n",
    "cbar.set_label('r$_h$(AU)', rotation=0, labelpad=35, fontsize=20)\n",
    "cbar.ax.tick_params(labelsize=14)\n",
    "plt.title('Phased data (GP): r$_h >$ %.1f au'%limiting_rh, fontsize=titles)\n",
    "plt.gca().invert_yaxis()\n",
    "plt.legend(loc=4)\n",
    "#plt.set(xlabel='phase', ylabel='magnitude', title='Phased Data')\n",
    "plt.show()\n",
    "#plt.savefig(data_dir+'paper_pics/'+'phased_lc_rh_%s_gp_P_%.4f.png'%(str(limiting_rh), 24.*final_period_gp), format='png', dpi=200)"
   ]
  },
  {
   "cell_type": "code",
   "execution_count": null,
   "metadata": {},
   "outputs": [],
   "source": [
    "weird_points = []\n",
    "for i,val in enumerate(magsPeriod):\n",
    "    if val>15.77 and 0.45<phase_gp[i]<0.7:\n",
    "        print(val, phase_gp[i], mjdPeriod[i],i)\n",
    "        weird_points.append(mjdPeriod[i])\n",
    "#max(weird_points)-min(weird_points)"
   ]
  },
  {
   "cell_type": "code",
   "execution_count": null,
   "metadata": {},
   "outputs": [],
   "source": [
    "# ii): \n",
    "# Astropy periodogram implementation:\n",
    "power_ap = LombScargle(t_days, mags, mags_unc).power(freq, method='fast')\n",
    "\n",
    "best_frequency_ap = freq[np.argmax(power_ap)]\n",
    "best_period_ap = 1./best_frequency_ap\n",
    "print(\"Best period (astropy) = {0:.6f}h\".format((best_period_ap)*24.))\n",
    "periods_ap = 1./freq"
   ]
  },
  {
   "cell_type": "code",
   "execution_count": null,
   "metadata": {},
   "outputs": [],
   "source": [
    "plt.figure(figsize=(14,8))\n",
    "plt.plot(periods_ap, power_ap,color='k',linewidth=0.5)\n",
    "plt.title('Astropy specify frequency grid periodogram %i points: %.4f h'%(npoints, (best_period_ap)*24.),fontsize=titles)\n",
    "\n",
    "plt.show()"
   ]
  },
  {
   "cell_type": "code",
   "execution_count": null,
   "metadata": {},
   "outputs": [],
   "source": [
    "if phase_to_real_period==True:\n",
    "    final_period_ap = real_period\n",
    "    phase_ap = t_days/final_period_ap % 1\n",
    "    print('Using real period %.4f'%(final_period_ap*24.))\n",
    "else:\n",
    "    final_period_ap = multiplier*best_period_ap\n",
    "    phase_ap = t_days/final_period_ap % 1\n",
    "    print('Phase to %.1fx best-fit LS (astropy) period %.4fh'%(multiplier, best_period_ap*24.))"
   ]
  },
  {
   "cell_type": "code",
   "execution_count": null,
   "metadata": {},
   "outputs": [],
   "source": [
    "#fig, ax = plt.subplots(1, 2, figsize=(16, 6))\n",
    "#ax[0].plot(periods_ap, power_ap)\n",
    "#ax[0].set(xlabel='Period (days)', ylabel='Lomb-Scargle Power (AP)', title='Lomb-Scargle Periodogram (AP)')\n",
    "\n",
    "#ax[1].errorbar(phase_ap, magsPeriod, uncPeriod, fmt='.k', ecolor='gray', capsize=0, label='P: %.4f h'%(multiplier*24.*best_period_ap))\n",
    "#ax[1].set(xlabel='phase', ylabel='magnitude', title='Phased Data (AP)')\n",
    "#ax[1].invert_yaxis()\n",
    "#ax[1].legend(loc=4)\n",
    "#plt.show()\n",
    "\n",
    "plt.figure(figsize=(14,8))\n",
    "plt.scatter(phase_ap, magsPeriod, c=rhPeriod, cmap='viridis_r', s=50, label='P: %.4f h'%(24.*final_period_ap), zorder=2)\n",
    "plt.errorbar(phase_ap, magsPeriod, yerr=mags_unc, fmt=\".\", color=\"gray\", elinewidth=0.7,capsize=2, zorder=1)\n",
    "plt.xlabel('Phase', fontsize=labels);plt.ylabel('Magnitude', fontsize=labels)\n",
    "plt.xticks(fontsize=ticks); plt.yticks(fontsize=ticks)\n",
    "cbar = plt.colorbar()#ticks = [3.6, 4.0, 4.5, 5.0, 5.5])\n",
    "cbar.set_label('r$_h$(AU)', labelpad=35, rotation=0, fontsize=labels)\n",
    "cbar.ax.tick_params(labelsize=14)\n",
    "plt.gca().invert_yaxis()\n",
    "plt.title('Phased data (AP): r$_h >$ %.1f au'%limiting_rh, fontsize=titles)\n",
    "plt.legend(loc=4)\n",
    "#plt.set(xlabel='phase', ylabel='magnitude', title='Phased Data')\n",
    "plt.show()"
   ]
  },
  {
   "cell_type": "code",
   "execution_count": null,
   "metadata": {},
   "outputs": [],
   "source": []
  },
  {
   "cell_type": "code",
   "execution_count": null,
   "metadata": {},
   "outputs": [],
   "source": []
  },
  {
   "cell_type": "code",
   "execution_count": null,
   "metadata": {},
   "outputs": [],
   "source": []
  }
 ],
 "metadata": {
  "kernelspec": {
   "display_name": "Python 3",
   "language": "python",
   "name": "python3"
  },
  "language_info": {
   "codemirror_mode": {
    "name": "ipython",
    "version": 3
   },
   "file_extension": ".py",
   "mimetype": "text/x-python",
   "name": "python",
   "nbconvert_exporter": "python",
   "pygments_lexer": "ipython3",
   "version": "3.8.3"
  }
 },
 "nbformat": 4,
 "nbformat_minor": 4
}
